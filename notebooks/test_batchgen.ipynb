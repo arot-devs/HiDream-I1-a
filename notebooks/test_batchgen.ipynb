{
 "cells": [
  {
   "cell_type": "code",
   "execution_count": 1,
   "id": "fa4fba61",
   "metadata": {},
   "outputs": [
    {
     "name": "stdout",
     "output_type": "stream",
     "text": [
      "Using global temporary directory: /tmp/unibox_temp\n"
     ]
    }
   ],
   "source": [
    "import unibox as ub\n",
    "import pandas as pd"
   ]
  },
  {
   "cell_type": "code",
   "execution_count": null,
   "id": "62ad00c7",
   "metadata": {},
   "outputs": [],
   "source": [
    "df = ub.loads(\"hf://incantor/user-prompts-vis-entries\").to_pandas()\n",
    "\n",
    "prompts_list = df[\"prompt\"].tolist()\n",
    "ub.saves(prompts_list, \"user_prompts.txt\")"
   ]
  },
  {
   "cell_type": "code",
   "execution_count": null,
   "id": "7501df5e",
   "metadata": {},
   "outputs": [
    {
     "name": "stdout",
     "output_type": "stream",
     "text": [
      "Saved: 02_521016bb.png, 02_521016bb.json\n",
      "Saved: 03_96f61436.png, 03_96f61436.json\n",
      "Saved: 01_5da44f13.png, 01_5da44f13.json\n",
      "Saved: 00_9c6a0286.png, 00_9c6a0286.json\n",
      "Saved: 05_4cb50416.png, 05_4cb50416.json\n",
      "Saved: 06_6b8c1704.png, 06_6b8c1704.json\n",
      "Saved: 04_28581360.png, 04_28581360.json\n",
      "Saved: 07_b8c00f4b.png, 07_b8c00f4b.json\n",
      "Saved: 10_c0da91a9.png, 10_c0da91a9.json\n",
      "Saved: 09_25c812a1.png, 09_25c812a1.json\n",
      "Saved: 08_33b7d216.png, 08_33b7d216.json\n",
      "Saved: 11_cffe7f8f.png, 11_cffe7f8f.json\n",
      "Saved: 13_f1173ae1.png, 13_f1173ae1.json\n",
      "Saved: 14_fe6ec9aa.png, 14_fe6ec9aa.json\n",
      "Saved: 12_b15de6a1.png, 12_b15de6a1.json\n",
      "Saved: 15_4f2090c1.png, 15_4f2090c1.json\n",
      "Done in 95.22 seconds.\n"
     ]
    }
   ],
   "source": [
    "import os\n",
    "import json\n",
    "import time\n",
    "import hashlib\n",
    "import requests\n",
    "from concurrent.futures import ThreadPoolExecutor\n",
    "from PIL import Image\n",
    "from io import BytesIO\n",
    "import base64\n",
    "import threading\n",
    "\n",
    "# === Config ===\n",
    "CONTROLLER = \"http://127.0.0.1:9000/generate\"\n",
    "CLIENT_ID = \"my-client-1\"\n",
    "PROMPT_FILE = \"user_prompts.txt\"  # optional: use instead of PROMPTS\n",
    "SAVE_DIR = \"outputs\"\n",
    "NUM_WORKERS = 4  # Number of parallel requests\n",
    "MAX_IN_FLIGHT = NUM_WORKERS * 2  # Allow some buffer\n",
    "\n",
    "# === Read prompts ===\n",
    "if os.path.exists(PROMPT_FILE):\n",
    "    SAVE_DIR = f\"outputs_{os.path.splitext(os.path.basename(PROMPT_FILE))[0]}\"\n",
    "    print(f\"Using prompts from {PROMPT_FILE} | Saving to {SAVE_DIR}\")\n",
    "    with open(PROMPT_FILE, 'r', encoding='utf-8') as f:\n",
    "        PROMPTS = [line.strip() for line in f if line.strip()]\n",
    "else:\n",
    "    PROMPTS = [\"a cat\", \"a dog\", \"a castle\", \"a dragon\"] * 4\n",
    "\n",
    "# === Ensure save dir ===\n",
    "os.makedirs(SAVE_DIR, exist_ok=True)\n",
    "\n",
    "# === Save function ===\n",
    "def save_image_and_metadata(img_b64, metadata, index):\n",
    "    prefix = f\"{index:0{len(str(len(PROMPTS)))}}\"\n",
    "    \n",
    "    # Compute hash to avoid naming collisions\n",
    "    meta_str = json.dumps(metadata, sort_keys=True)\n",
    "    digest = hashlib.sha1(meta_str.encode()).hexdigest()[:8]\n",
    "    \n",
    "    img_filename = f\"{prefix}_{digest}.png\"\n",
    "    json_filename = f\"{prefix}_{digest}.json\"\n",
    "\n",
    "    # Decode and save image\n",
    "    image = Image.open(BytesIO(base64.b64decode(img_b64.split(',')[-1])))\n",
    "    image.save(os.path.join(SAVE_DIR, img_filename))\n",
    "\n",
    "    # Save metadata\n",
    "    metadata[\"client_timestamp\"] = time.strftime(\"%Y-%m-%dT%H:%M:%SZ\", time.gmtime())\n",
    "    with open(os.path.join(SAVE_DIR, json_filename), \"w\") as f:\n",
    "        json.dump(metadata, f, indent=2)\n",
    "\n",
    "    print(f\"Saved: {img_filename}, {json_filename}\")\n",
    "\n",
    "# === Request function with semaphore ===\n",
    "semaphore = threading.Semaphore(MAX_IN_FLIGHT)\n",
    "\n",
    "def send(index, prompt, width, height):\n",
    "    with semaphore:\n",
    "        try:\n",
    "            resp = requests.post(\n",
    "                CONTROLLER,\n",
    "                json={\"prompt\": prompt, \"width\": width, \"height\": height},\n",
    "                headers={\"X-Client-ID\": CLIENT_ID},\n",
    "                timeout=300\n",
    "            )\n",
    "            resp.raise_for_status()\n",
    "            data = resp.json()\n",
    "            if \"image\" in data and \"metadata\" in data:\n",
    "                save_image_and_metadata(data[\"image\"], data[\"metadata\"], index)\n",
    "            else:\n",
    "                print(f\"Failed: Missing image or metadata for prompt: {prompt}\")\n",
    "        except Exception as e:\n",
    "            print(f\"Error at line {index+1} ('{prompt}'): {e}\")\n",
    "\n",
    "# === Main Execution ===\n",
    "if __name__ == \"__main__\":\n",
    "    start = time.time()\n",
    "    with ThreadPoolExecutor(max_workers=NUM_WORKERS) as executor:\n",
    "        futures = [\n",
    "            executor.submit(send, idx, p, 1024, 1024)\n",
    "            for idx, p in enumerate(PROMPTS)\n",
    "        ]\n",
    "        [f.result() for f in futures]\n",
    "    print(\"Done in\", round(time.time() - start, 2), \"seconds.\")"
   ]
  }
 ],
 "metadata": {
  "kernelspec": {
   "display_name": "base",
   "language": "python",
   "name": "python3"
  },
  "language_info": {
   "codemirror_mode": {
    "name": "ipython",
    "version": 3
   },
   "file_extension": ".py",
   "mimetype": "text/x-python",
   "name": "python",
   "nbconvert_exporter": "python",
   "pygments_lexer": "ipython3",
   "version": "3.10.16"
  }
 },
 "nbformat": 4,
 "nbformat_minor": 5
}
